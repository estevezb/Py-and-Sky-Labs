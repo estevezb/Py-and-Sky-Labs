{
 "cells": [
  {
   "cell_type": "markdown",
   "metadata": {},
   "source": [
    "- Title: Introduction to Folium Maps\n",
    "- Slug: maps-with-folium\n",
    "- Category: Geographic Analysis\n",
    "- Date: 2024-07-05\n",
    "- Tags: Python, Maps\n",
    "- Author: Brian Estevez"
   ]
  },
  {
   "cell_type": "markdown",
   "metadata": {},
   "source": [
    "## Make a folium map of drone data"
   ]
  },
  {
   "cell_type": "code",
   "execution_count": 5,
   "metadata": {},
   "outputs": [],
   "source": [
    "import csv\n",
    "from pathlib import Path\n",
    "import folium\n",
    "import pandas as pd\n",
    "from jinja2 import Template\n",
    "\n",
    "# Define the data as a multi-line string\n",
    "data = \"\"\"latitude,longitude,photo,timestamp,description\n",
    "45.5236,-122.6750,photo1.jpg,2024-06-25 10:00:00,Description of photo 1\n",
    "45.5280,-122.6650,photo2.jpg,2024-06-25 10:05:00,Description of photo 2\n",
    "45.5130,-122.7050,photo3.jpg,2024-06-25 10:10:00,Description of photo 3\"\"\"\n",
    "\n",
    "# Split the data into lines\n",
    "lines = data.split('\\n')\n",
    "# Get the current working directory as a Path object\n",
    "current_directory = Path.cwd()\n",
    "\n",
    "subdirectory = 'Data'\n",
    "# Ensure the subdirectory exists\n",
    "data_directory = current_directory / subdirectory\n",
    "data_directory.mkdir(exist_ok=True)\n",
    "\n",
    "# Specify the path for the new CSV file using the / operator for path concatenation\n",
    "file_path = data_directory / 'drone_photos.csv'\n",
    "\n",
    "# Open a new CSV file in write mode\n",
    "with open(file_path, 'w', newline='') as file:\n",
    "    writer = csv.writer(file)\n",
    "    # Iterate over each line in the data\n",
    "    for line in lines:\n",
    "        # Split the line into fields using comma as the delimiter\n",
    "        fields = line.split(',')\n",
    "        # Write the fields to the CSV file\n",
    "        writer.writerow(fields)\n",
    "\n",
    "# Load the data\n",
    "data = pd.read_csv(file_path)\n",
    "\n",
    "# Create a map centered around the average coordinates\n",
    "map_center = [data['latitude'].mean(), data['longitude'].mean()]\n",
    "m = folium.Map(location=map_center, zoom_start=13)\n",
    "\n",
    "# Add markers with popups for each photo\n",
    "for idx, row in data.iterrows():\n",
    "    popup_html = f\"\"\"\n",
    "    <strong>Description:</strong> {row['description']}<br>\n",
    "    <strong>Timestamp:</strong> {row['timestamp']}<br>\n",
    "    <img src='{row['photo']}' alt='Photo' width='200'>\n",
    "    \"\"\"\n",
    "    folium.Marker([row['latitude'], row['longitude']], popup=popup_html).add_to(m)\n",
    "\n",
    "# Save the Folium map to a string\n",
    "folium_map = m._repr_html_()\n",
    "\n",
    "# Load the Jinja2 template\n",
    "template_html = \"\"\"\n",
    "<!DOCTYPE html>\n",
    "<html lang=\"en\">\n",
    "<head>\n",
    "    <meta charset=\"UTF-8\">\n",
    "    <meta name=\"viewport\" content=\"width=device-width, initial-scale=1.0\">\n",
    "    <title>Drone Photos Map</title>\n",
    "</head>\n",
    "<body>\n",
    "    {{ folium_map | safe }}\n",
    "</body>\n",
    "</html>\n",
    "\"\"\"\n",
    "\n",
    "template = Template(template_html)\n",
    "rendered_html = template.render(folium_map=folium_map)\n",
    "\n",
    "# Save the rendered HTML to a file\n",
    "output_path = current_directory / 'map.html'\n",
    "with open(output_path, 'w') as f:\n",
    "    f.write(rendered_html)\n",
    "\n",
    "# Display the map in the notebook\n",
    "m"
   ]
  },
  {
   "cell_type": "markdown",
   "metadata": {},
   "source": [
    "<iframe src=r\"G:\\My Drive\\Python_projects\\my_git_pages_website\\Py-and-Sky-Labs\\content\\Geographic Analysis\\map.html\" width=\"100%\" height=\"600px\" frameborder=\"0\" allowfullscreen></iframe>\n"
   ]
  },
  {
   "cell_type": "markdown",
   "metadata": {},
   "source": [
    "<iframe src=r\"G:\\My Drive\\Python_projects\\my_git_pages_website\\Py-and-Sky-Labs\\content\\Geographic Analysis\\map.html\" width=\"100%\" height=\"600px\" frameborder=\"0\" allowfullscreen></iframe>"
   ]
  }
 ],
 "metadata": {
  "kernelspec": {
   "display_name": "myenv",
   "language": "python",
   "name": "python3"
  },
  "language_info": {
   "codemirror_mode": {
    "name": "ipython",
    "version": 3
   },
   "file_extension": ".py",
   "mimetype": "text/x-python",
   "name": "python",
   "nbconvert_exporter": "python",
   "pygments_lexer": "ipython3",
   "version": "3.11.9"
  }
 },
 "nbformat": 4,
 "nbformat_minor": 2
}
